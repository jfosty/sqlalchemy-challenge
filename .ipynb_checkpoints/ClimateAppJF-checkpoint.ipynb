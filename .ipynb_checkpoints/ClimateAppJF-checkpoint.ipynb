{
 "cells": [
  {
   "cell_type": "code",
   "execution_count": 1,
   "id": "38188cff-dcff-41a4-893d-ef6c1ef92a58",
   "metadata": {},
   "outputs": [],
   "source": [
    "# Import the dependencies.\n",
    "import datetime as dt\n",
    "import numpy as np\n",
    "\n",
    "from sqlalchemy.ext.automap import automap_base\n",
    "from sqlalchemy.orm import Session\n",
    "from sqlalchemy import create_engine, func\n",
    "\n",
    "from flask import Flask, jsonify\n"
   ]
  },
  {
   "cell_type": "code",
   "execution_count": 2,
   "id": "02feda02-9de7-4dff-82f4-13184ba7451b",
   "metadata": {},
   "outputs": [],
   "source": [
    "#################################################\n",
    "# Database Setup\n",
    "#################################################\n",
    "engine = create_engine(\"sqlite:///Resources/hawaii.sqlite\")\n",
    "\n",
    "# reflect an existing database into a new model\n",
    "Base = automap_base()\n",
    "\n",
    "# reflect the tables\n",
    "Base.prepare(autoload_with=engine)\n",
    "\n",
    "# Save references to each table\n",
    "Measurement = Base.classes.measurement\n",
    "Station = Base.classes.station\n",
    "\n",
    "# Create our session (link) from Python to the DB\n",
    "session = Session(engine)"
   ]
  },
  {
   "cell_type": "code",
   "execution_count": 3,
   "id": "a63dcf4a-2266-4c95-873e-ab05d416ade2",
   "metadata": {},
   "outputs": [],
   "source": [
    "#################################################\n",
    "# Flask Setup\n",
    "#################################################\n",
    "app = Flask(__name__)\n",
    "\n"
   ]
  },
  {
   "cell_type": "code",
   "execution_count": 4,
   "id": "246dc360-df74-4196-9d07-7157ac8c1a2e",
   "metadata": {},
   "outputs": [],
   "source": [
    "#################################################\n",
    "# Flask Routes\n",
    "#################################################\n",
    "\n",
    "@app.route(\"/\")\n",
    "def welcome():\n",
    "    return (\n",
    "        f\"Hello! Thanks for using the Hawaii Climate Analysis API!<br/>\"\n",
    "        f\"Available Routes:<br/>\"\n",
    "        f\"/api/v1.0/precipitation<br/>\"\n",
    "        f\"/api/v1.0/stations<br/>\"\n",
    "        f\"/api/v1.0/tobs<br/>\"\n",
    "        f\"/api/v1.0/temp/start<br/>\"\n",
    "        f\"/api/v1.0/temp/start/end<br/>\"\n",
    "        f\"<p>'start' and 'end' date should be in the format MMDDYYYY.</p>\"\n",
    "\n",
    "    )"
   ]
  },
  {
   "cell_type": "code",
   "execution_count": 5,
   "id": "64408726-c881-4d8a-b133-65b24f14bd27",
   "metadata": {},
   "outputs": [],
   "source": [
    "@app.route(\"/api/v1.0/precipitation\")\n",
    "def precipitation():\n",
    "    \"\"\"Return the precipitation data for the last year\"\"\"\n",
    "    # Calculate the date 1 year ago from last date in database\n",
    "    prev_year = dt.date(2017, 8, 23) - dt.timedelta(days=365)\n",
    "\n",
    "    # Query for the date and precipitation for the last year\n",
    "    precipitation = session.query(Measurement.date, Measurement.prcp).\\\n",
    "        filter(Measurement.date >= prev_year).all()\n",
    "\n",
    "    session.close()\n",
    "    # Dict with date as the key and prcp as the value\n",
    "    precip = {date: prcp for date, prcp in precipitation}\n",
    "    return jsonify(precip)\n"
   ]
  },
  {
   "cell_type": "code",
   "execution_count": 6,
   "id": "8f9821c3-0de2-46c0-a4b2-e951f8fd8630",
   "metadata": {},
   "outputs": [],
   "source": [
    "@app.route(\"/api/v1.0/stations\")\n",
    "def stations():\n",
    "    \"\"\"Return a list of stations.\"\"\"\n",
    "    results = session.query(Station.station).all()\n",
    "\n",
    "    session.close()\n",
    "\n",
    "    # Unravel results into a 1D array and convert to a list\n",
    "    stations = list(np.ravel(results))\n",
    "    return jsonify(stations=stations)"
   ]
  },
  {
   "cell_type": "code",
   "execution_count": 7,
   "id": "77066fd9-6683-4ac1-98b9-b520579a57f4",
   "metadata": {},
   "outputs": [],
   "source": [
    "@app.route(\"/api/v1.0/tobs\")\n",
    "def temp_monthly():\n",
    "    \"\"\"Return the temperature observations (tobs) for previous year.\"\"\"\n",
    "    # Calculate the date 1 year ago from last date in database\n",
    "    prev_year = dt.date(2017, 8, 23) - dt.timedelta(days=365)\n",
    "\n",
    "    # Query the primary station for all tobs from the last year\n",
    "    results = session.query(Measurement.tobs).\\\n",
    "        filter(Measurement.station == 'USC00519281').\\\n",
    "        filter(Measurement.date >= prev_year).all()\n",
    "\n",
    "    session.close()\n",
    "    # Unravel results into a 1D array and convert to a list\n",
    "    temps = list(np.ravel(results))\n",
    "\n",
    "    # Return the results\n",
    "    return jsonify(temps=temps)\n"
   ]
  },
  {
   "cell_type": "code",
   "execution_count": 8,
   "id": "d1c141c4-aed9-4777-825e-df9018d696c2",
   "metadata": {},
   "outputs": [],
   "source": [
    "@app.route(\"/api/v1.0/temp/<start>\")\n",
    "@app.route(\"/api/v1.0/temp/<start>/<end>\")\n",
    "def stats(start=None, end=None):\n",
    "    \"\"\"Return TMIN, TAVG, TMAX.\"\"\"\n",
    "     # Select statement\n",
    "    sel = [func.min(Measurement.tobs), func.avg(Measurement.tobs), func.max(Measurement.tobs)]\n",
    "\n",
    "    if not end:\n",
    "\n",
    "        start = dt.datetime.strptime(start, \"%m%d%Y\")\n",
    "        results = session.query(*sel).\\\n",
    "            filter(Measurement.date >= start).all()\n",
    "\n",
    "        session.close()\n",
    "\n",
    "        temps = list(np.ravel(results))\n",
    "        return jsonify(temps)\n",
    "            # calculate TMIN, TAVG, TMAX with start and stop\n",
    "    start = dt.datetime.strptime(start, \"%m%d%Y\")\n",
    "    end = dt.datetime.strptime(end, \"%m%d%Y\")\n",
    "\n",
    "    results = session.query(*sel).\\\n",
    "        filter(Measurement.date >= start).\\\n",
    "        filter(Measurement.date <= end).all()\n",
    "\n",
    "    session.close()\n",
    "\n",
    "    # Unravel results into a 1D array and convert to a list\n",
    "    temps = list(np.ravel(results))\n",
    "    return jsonify(temps=temps)"
   ]
  },
  {
   "cell_type": "code",
   "execution_count": null,
   "id": "f20138fe-7111-4ecc-94d4-4ed76947f3d5",
   "metadata": {},
   "outputs": [
    {
     "name": "stdout",
     "output_type": "stream",
     "text": [
      " * Serving Flask app '__main__'\n",
      " * Debug mode: off\n"
     ]
    },
    {
     "name": "stderr",
     "output_type": "stream",
     "text": [
      "WARNING: This is a development server. Do not use it in a production deployment. Use a production WSGI server instead.\n",
      " * Running on http://127.0.0.1:5000\n",
      "Press CTRL+C to quit\n"
     ]
    }
   ],
   "source": [
    "if __name__ == '__main__':\n",
    "    app.run()"
   ]
  }
 ],
 "metadata": {
  "kernelspec": {
   "display_name": "Python 3 (ipykernel)",
   "language": "python",
   "name": "python3"
  },
  "language_info": {
   "codemirror_mode": {
    "name": "ipython",
    "version": 3
   },
   "file_extension": ".py",
   "mimetype": "text/x-python",
   "name": "python",
   "nbconvert_exporter": "python",
   "pygments_lexer": "ipython3",
   "version": "3.10.15"
  }
 },
 "nbformat": 4,
 "nbformat_minor": 5
}
